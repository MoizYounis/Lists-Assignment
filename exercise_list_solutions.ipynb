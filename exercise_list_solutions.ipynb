{
 "cells": [
  {
   "cell_type": "markdown",
   "metadata": {},
   "source": [
    "Lists Assignment"
   ]
  },
  {
   "cell_type": "code",
   "execution_count": 2,
   "metadata": {},
   "outputs": [
    {
     "name": "stdout",
     "output_type": "stream",
     "text": [
      "Moiz\n",
      "Hammad\n",
      "Arslan\n",
      "Hamza\n",
      "Hello, Moiz! Hope you're having a great day!\n",
      "Hello, Hammad! Hope you're having a great day!\n",
      "Hello, Arslan! Hope you're having a great day!\n",
      "Hello, Hamza! Hope you're having a great day!\n"
     ]
    }
   ],
   "source": [
    "# Names\n",
    "names = ['Moiz', 'Hammad', 'Arslan', 'Hamza']\n",
    "\n",
    "for name in names:\n",
    "    print(name)\n",
    "\n",
    "# Greetings\n",
    "for name in names:\n",
    "    print(f\"Hello, {name}! Hope you're having a great day!\")"
   ]
  },
  {
   "cell_type": "code",
   "execution_count": 3,
   "metadata": {},
   "outputs": [
    {
     "name": "stdout",
     "output_type": "stream",
     "text": [
      "I would like to own a Mehran.\n",
      "I would like to own a Honda Civic.\n",
      "I would like to own a Alto.\n"
     ]
    }
   ],
   "source": [
    "# Your Own List\n",
    "favorite_transportations = [\"Mehran\", \"Honda Civic\", \"Alto\"]\n",
    "for transportation in favorite_transportations:\n",
    "    print(f\"I would like to own a {transportation}.\")"
   ]
  },
  {
   "cell_type": "code",
   "execution_count": 5,
   "metadata": {},
   "outputs": [
    {
     "name": "stdout",
     "output_type": "stream",
     "text": [
      "Dear Muhammad, I would be honored if you could join me for dinner.\n",
      "Dear Ali, I would be honored if you could join me for dinner.\n",
      "Dear Hassan, I would be honored if you could join me for dinner.\n",
      "\n",
      "Unfortunately, Hassan can't make it to the dinner.\n",
      "\n",
      "Dear Muhammad, I would be honored if you could join me for dinner.\n",
      "Dear Ali, I would be honored if you could join me for dinner.\n",
      "Dear Omar, I would be honored if you could join me for dinner.\n",
      "\n",
      "Great news! I've found a bigger table, so I'm inviting more people to dinner.\n",
      "\n",
      "Dear Ahmed, I would be honored if you could join me for dinner.\n",
      "Dear Muhammad, I would be honored if you could join me for dinner.\n",
      "Dear Ali, I would be honored if you could join me for dinner.\n",
      "Dear Omar, I would be honored if you could join me for dinner.\n",
      "Dear Yusuf, I would be honored if you could join me for dinner.\n",
      "Dear Hamza, I would be honored if you could join me for dinner.\n"
     ]
    }
   ],
   "source": [
    "# Guest List\n",
    "dinner_guests = ['Muhammad', 'Ali', 'Hassan']\n",
    "\n",
    "for guest in dinner_guests:\n",
    "    print(f\"Dear {guest}, I would be honored if you could join me for dinner.\")\n",
    "\n",
    "# Changing Guest List\n",
    "guest_who_cant_make_it = 'Hassan'\n",
    "print(f\"\\nUnfortunately, {guest_who_cant_make_it} can't make it to the dinner.\\n\")\n",
    "\n",
    "dinner_guests[dinner_guests.index(guest_who_cant_make_it)] = 'Omar'\n",
    "\n",
    "for guest in dinner_guests:\n",
    "    print(f\"Dear {guest}, I would be honored if you could join me for dinner.\")\n",
    "\n",
    "# More Guests\n",
    "print(\"\\nGreat news! I've found a bigger table, so I'm inviting more people to dinner.\\n\")\n",
    "\n",
    "dinner_guests.insert(0, 'Ahmed')\n",
    "\n",
    "middle_index = len(dinner_guests)\n",
    "dinner_guests.insert(middle_index, 'Yusuf')\n",
    "\n",
    "dinner_guests.append('Hamza')\n",
    "\n",
    "for guest in dinner_guests:\n",
    "    print(f\"Dear {guest}, I would be honored if you could join me for dinner.\")"
   ]
  },
  {
   "cell_type": "code",
   "execution_count": 6,
   "metadata": {},
   "outputs": [
    {
     "name": "stdout",
     "output_type": "stream",
     "text": [
      "Unfortunately, I can invite only two people for dinner.\n",
      "\n",
      "Dear Hamza, I'm sorry I can't invite you to dinner.\n",
      "Dear Omar, I'm sorry I can't invite you to dinner.\n",
      "Dear Ali, I'm sorry I can't invite you to dinner.\n",
      "Dear Yusuf, I'm sorry I can't invite you to dinner.\n",
      "\n",
      "\n",
      "Dear Ahmed, you are still invited to dinner!\n",
      "Dear Muhammad, you are still invited to dinner!\n",
      "\n",
      "Final guest list: []\n"
     ]
    }
   ],
   "source": [
    "# Shrinking Guest List\n",
    "dinner_guests = ['Ahmed', 'Muhammad', 'Yusuf', 'Ali', 'Omar', 'Hamza']\n",
    "print(\"Unfortunately, I can invite only two people for dinner.\\n\")\n",
    "\n",
    "while len(dinner_guests) > 2:\n",
    "    removed_guest = dinner_guests.pop()\n",
    "    print(f\"Dear {removed_guest}, I'm sorry I can't invite you to dinner.\")\n",
    "\n",
    "print(\"\\n\")\n",
    "for guest in dinner_guests:\n",
    "    print(f\"Dear {guest}, you are still invited to dinner!\")\n",
    "\n",
    "del dinner_guests[0]\n",
    "del dinner_guests[0]\n",
    "\n",
    "print(\"\\nFinal guest list:\", dinner_guests)"
   ]
  },
  {
   "cell_type": "code",
   "execution_count": 7,
   "metadata": {},
   "outputs": [
    {
     "name": "stdout",
     "output_type": "stream",
     "text": [
      "Original list: ['Karimabad', 'Lahore', 'Islamabad', 'Karachi', 'Peshawar']\n",
      "\n",
      "List in alphabetical order: ['Islamabad', 'Karachi', 'Karimabad', 'Lahore', 'Peshawar']\n",
      "List after sorted() (original order): ['Karimabad', 'Lahore', 'Islamabad', 'Karachi', 'Peshawar']\n",
      "\n",
      "List in reverse-alphabetical order: ['Peshawar', 'Lahore', 'Karimabad', 'Karachi', 'Islamabad']\n",
      "List after sorted(reverse=True) (original order): ['Karimabad', 'Lahore', 'Islamabad', 'Karachi', 'Peshawar']\n",
      "\n",
      "List after reverse(): ['Peshawar', 'Karachi', 'Islamabad', 'Lahore', 'Karimabad']\n",
      "List after reverse() again (back to original): ['Karimabad', 'Lahore', 'Islamabad', 'Karachi', 'Peshawar']\n",
      "\n",
      "List after sort() (alphabetical order): ['Islamabad', 'Karachi', 'Karimabad', 'Lahore', 'Peshawar']\n",
      "List after sort(reverse=True) (reverse alphabetical order): ['Peshawar', 'Lahore', 'Karimabad', 'Karachi', 'Islamabad']\n"
     ]
    }
   ],
   "source": [
    "# Seeing the World\n",
    "places_to_visit = ['Karimabad', 'Lahore', 'Islamabad', 'Karachi', 'Peshawar']\n",
    "\n",
    "print(\"Original list:\", places_to_visit)\n",
    "\n",
    "print(\"\\nList in alphabetical order:\", sorted(places_to_visit))\n",
    "print(\"List after sorted() (original order):\", places_to_visit)\n",
    "\n",
    "print(\"\\nList in reverse-alphabetical order:\", sorted(places_to_visit, reverse=True))\n",
    "print(\"List after sorted(reverse=True) (original order):\", places_to_visit)\n",
    "\n",
    "places_to_visit.reverse()\n",
    "print(\"\\nList after reverse():\", places_to_visit)\n",
    "\n",
    "places_to_visit.reverse()\n",
    "print(\"List after reverse() again (back to original):\", places_to_visit)\n",
    "\n",
    "places_to_visit.sort()\n",
    "print(\"\\nList after sort() (alphabetical order):\", places_to_visit)\n",
    "\n",
    "places_to_visit.sort(reverse=True)\n",
    "print(\"List after sort(reverse=True) (reverse alphabetical order):\", places_to_visit)"
   ]
  },
  {
   "cell_type": "code",
   "execution_count": 8,
   "metadata": {},
   "outputs": [
    {
     "name": "stdout",
     "output_type": "stream",
     "text": [
      "Original list: ['Karimabad', 'Lahore', 'Islamabad', 'Karachi', 'Peshawar']\n",
      "\n",
      "List in alphabetical order: ['Islamabad', 'Karachi', 'Karimabad', 'Lahore', 'Peshawar']\n",
      "List after sorted() (original order): ['Karimabad', 'Lahore', 'Islamabad', 'Karachi', 'Peshawar']\n",
      "\n",
      "List in reverse-alphabetical order: ['Peshawar', 'Lahore', 'Karimabad', 'Karachi', 'Islamabad']\n",
      "List after sorted(reverse=True) (original order): ['Karimabad', 'Lahore', 'Islamabad', 'Karachi', 'Peshawar']\n",
      "\n",
      "List after reverse(): ['Peshawar', 'Karachi', 'Islamabad', 'Lahore', 'Karimabad']\n",
      "List after reverse() again (back to original): ['Karimabad', 'Lahore', 'Islamabad', 'Karachi', 'Peshawar']\n",
      "\n",
      "List after sort() (alphabetical order): ['Islamabad', 'Karachi', 'Karimabad', 'Lahore', 'Peshawar']\n",
      "List after sort(reverse=True) (reverse alphabetical order): ['Peshawar', 'Lahore', 'Karimabad', 'Karachi', 'Islamabad']\n"
     ]
    }
   ],
   "source": [
    "# Every Function\n",
    "cities = ['Karimabad', 'Lahore', 'Islamabad', 'Karachi', 'Peshawar']\n",
    "\n",
    "print(\"Original list:\", cities)\n",
    "\n",
    "print(\"\\nList in alphabetical order:\", sorted(cities))\n",
    "print(\"List after sorted() (original order):\", cities)\n",
    "\n",
    "print(\"\\nList in reverse-alphabetical order:\", sorted(cities, reverse=True))\n",
    "print(\"List after sorted(reverse=True) (original order):\", cities)\n",
    "\n",
    "cities.reverse()\n",
    "print(\"\\nList after reverse():\", cities)\n",
    "\n",
    "cities.reverse()\n",
    "print(\"List after reverse() again (back to original):\", cities)\n",
    "\n",
    "cities.sort()\n",
    "print(\"\\nList after sort() (alphabetical order):\", cities)\n",
    "\n",
    "cities.sort(reverse=True)\n",
    "print(\"List after sort(reverse=True) (reverse alphabetical order):\", cities)"
   ]
  },
  {
   "cell_type": "code",
   "execution_count": 9,
   "metadata": {},
   "outputs": [
    {
     "name": "stdout",
     "output_type": "stream",
     "text": [
      "IndexError: The index is out of range.\n",
      "\n",
      "Correctly accessing an element:\n",
      "Islamabad\n"
     ]
    }
   ],
   "source": [
    "# Intentional Error\n",
    "cities = ['Karimabad', 'Lahore', 'Islamabad', 'Karachi', 'Peshawar']\n",
    "\n",
    "try:\n",
    "    print(cities[10])\n",
    "except IndexError:\n",
    "    print(\"IndexError: The index is out of range.\")\n",
    "\n",
    "print(\"\\nCorrectly accessing an element:\")\n",
    "print(cities[2])"
   ]
  }
 ],
 "metadata": {
  "kernelspec": {
   "display_name": "Python 3",
   "language": "python",
   "name": "python3"
  },
  "language_info": {
   "codemirror_mode": {
    "name": "ipython",
    "version": 3
   },
   "file_extension": ".py",
   "mimetype": "text/x-python",
   "name": "python",
   "nbconvert_exporter": "python",
   "pygments_lexer": "ipython3",
   "version": "3.12.4"
  }
 },
 "nbformat": 4,
 "nbformat_minor": 2
}
